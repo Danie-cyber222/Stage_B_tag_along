{
  "nbformat": 4,
  "nbformat_minor": 0,
  "metadata": {
    "colab": {
      "provenance": []
    },
    "kernelspec": {
      "name": "python3",
      "display_name": "Python 3"
    },
    "language_info": {
      "name": "python"
    }
  },
  "cells": [
    {
      "cell_type": "code",
      "source": [
        "import numpy as np\n",
        "import pandas as pd\n",
        "from sklearn.model_selection import train_test_split\n",
        "from sklearn.linear_model import LinearRegression\n",
        "from sklearn.metrics import mean_squared_error\n",
        "\n",
        "# Load your dataset into a DataFrame (assuming it's in a CSV file)\n",
        "df = pd.read_csv('/content/energydata_complete (2).csv')\n",
        "\n",
        "# Extract the features (T2) and target variable (T6)\n",
        "X = df[['T2']]\n",
        "y = df['T6']\n",
        "\n",
        "# Split the data into a training set and a testing set (optional but recommended)\n",
        "X_train, X_test, y_train, y_test = train_test_split(X, y, test_size=0.2, random_state=0)\n",
        "\n",
        "# Create and fit the linear regression model\n",
        "model = LinearRegression()\n",
        "model.fit(X_train, y_train)\n",
        "\n",
        "# Make predictions\n",
        "y_pred = model.predict(X_test)\n",
        "\n",
        "# Calculate the RMSE\n",
        "rmse = np.sqrt(mean_squared_error(y_test, y_pred))\n",
        "\n",
        "\n",
        "# Print the RMSE rounded to three decimal places\n",
        "round(rmse, 3)\n"
      ],
      "metadata": {
        "colab": {
          "base_uri": "https://localhost:8080/"
        },
        "id": "XVnJn_AnC3Eb",
        "outputId": "6fea787b-4fed-43b3-afdd-70dd0bd6b74d"
      },
      "execution_count": null,
      "outputs": [
        {
          "output_type": "execute_result",
          "data": {
            "text/plain": [
              "3.62"
            ]
          },
          "metadata": {},
          "execution_count": 6
        }
      ]
    },
    {
      "cell_type": "code",
      "source": [
        "import pandas as pd\n",
        "from sklearn.model_selection import train_test_split\n",
        "from sklearn.preprocessing import MinMaxScaler\n",
        "from sklearn.linear_model import LinearRegression\n",
        "from sklearn.metrics import mean_squared_error, r2_score\n",
        "\n",
        "# Load your dataset\n",
        "df = pd.read_csv('/content/energydata_complete (2).csv')\n",
        "\n",
        "# Remove the specified columns\n",
        "df = df.drop([\"date\", \"lights\"], axis=1)\n",
        "\n",
        "# Define your features (X) and target variable (y)\n",
        "X = df.drop(\"Appliances\", axis=1)\n",
        "y = df[\"Appliances\"]\n",
        "\n",
        "# Split the data into a 70-30 train-test set\n",
        "X_train, X_test, y_train, y_test = train_test_split(X, y, test_size=0.3, random_state=42)\n",
        "\n",
        "# Normalize the dataset using Min-Max scaler\n",
        "scaler = MinMaxScaler()\n",
        "X_train = scaler.fit_transform(X_train)\n",
        "X_test = scaler.transform(X_test)\n",
        "\n",
        "# Train a multiple linear regression model\n",
        "model = LinearRegression()\n",
        "model.fit(X_train, y_train)\n",
        "\n",
        "# Make predictions on the test set\n",
        "y_pred = model.predict(X_test)\n",
        "\n",
        "# Calculate RMSE (Root Mean Squared Error) and R-squared\n",
        "rmse = mean_squared_error(y_test, y_pred, squared=False)\n",
        "r2 = r2_score(y_test, y_pred)\n",
        "\n",
        "# Print out RSME and r2 rounded to 3 respectively.\n",
        "a=round(rmse, 3)\n",
        "b=round(r2, 3)\n",
        "print(a,b)\n"
      ],
      "metadata": {
        "colab": {
          "base_uri": "https://localhost:8080/"
        },
        "id": "4Pofh_AkDodL",
        "outputId": "81f067a3-21db-4eb1-b515-7e6df610f73b"
      },
      "execution_count": null,
      "outputs": [
        {
          "output_type": "stream",
          "name": "stdout",
          "text": [
            "93.64 0.149\n"
          ]
        }
      ]
    },
    {
      "cell_type": "code",
      "source": [
        "import pandas as pd\n",
        "from sklearn.model_selection import train_test_split\n",
        "from sklearn.preprocessing import MinMaxScaler\n",
        "from sklearn.linear_model import LinearRegression\n",
        "from sklearn.metrics import mean_absolute_error\n",
        "\n",
        "# Load your dataset\n",
        "df = pd.read_csv('/content/energydata_complete (2).csv')\n",
        "\n",
        "# Remove the specified columns\n",
        "df = df.drop([\"date\", \"lights\"], axis=1)\n",
        "\n",
        "# Define your features (X) and target variable (y)\n",
        "X = df.drop(\"Appliances\", axis=1)\n",
        "y = df[\"Appliances\"]\n",
        "\n",
        "# Split the data into a 70-30 train-test set\n",
        "X_train, X_test, y_train, y_test = train_test_split(X, y, test_size=0.3, random_state=42)\n",
        "\n",
        "# Normalize the dataset using Min-Max scaler\n",
        "scaler = MinMaxScaler()\n",
        "X_train = scaler.fit_transform(X_train)\n",
        "\n",
        "# Train a multiple linear regression model on the training set\n",
        "model = LinearRegression()\n",
        "model.fit(X_train, y_train)\n",
        "\n",
        "# Make predictions on the training set\n",
        "y_pred_train = model.predict(X_train)\n",
        "\n",
        "# Calculate the Mean Absolute Error (MAE) for the training set\n",
        "mae_train = mean_absolute_error(y_train, y_pred_train)\n",
        "\n",
        "# Print out mae_train rounded to 3.\n",
        "round(mae_train, 3)\n"
      ],
      "metadata": {
        "colab": {
          "base_uri": "https://localhost:8080/"
        },
        "id": "aMH-rq3hEstq",
        "outputId": "0e9124a2-a952-44bc-9f1a-5c321e31efe6"
      },
      "execution_count": null,
      "outputs": [
        {
          "output_type": "execute_result",
          "data": {
            "text/plain": [
              "53.742"
            ]
          },
          "metadata": {},
          "execution_count": 13
        }
      ]
    },
    {
      "cell_type": "code",
      "source": [
        "import pandas as pd\n",
        "from sklearn.model_selection import train_test_split\n",
        "from sklearn.preprocessing import MinMaxScaler\n",
        "from sklearn.linear_model import LinearRegression\n",
        "from sklearn.metrics import mean_squared_error\n",
        "\n",
        "# Load your dataset\n",
        "df = pd.read_csv('/content/energydata_complete (2).csv')\n",
        "\n",
        "# Remove the specified columns\n",
        "df = df.drop([\"date\", \"lights\"], axis=1)\n",
        "\n",
        "# Define your features (X) and target variable (y)\n",
        "X = df.drop(\"Appliances\", axis=1)\n",
        "y = df[\"Appliances\"]\n",
        "\n",
        "# Split the data into a 70-30 train-test set\n",
        "X_train, X_test, y_train, y_test = train_test_split(X, y, test_size=0.3, random_state=42)\n",
        "\n",
        "# Normalize the dataset using Min-Max scaler\n",
        "scaler = MinMaxScaler()\n",
        "X_train = scaler.fit_transform(X_train)\n",
        "\n",
        "# Train a multiple linear regression model on the training set\n",
        "model = LinearRegression()\n",
        "model.fit(X_train, y_train)\n",
        "\n",
        "# Make predictions on the training set\n",
        "y_pred_train = model.predict(X_train)\n",
        "\n",
        "# Calculate the Mean Squared Error (MSE) for the training set\n",
        "mse_train = mean_squared_error(y_train, y_pred_train)\n",
        "\n",
        "# Calculate the Root Mean Squared Error (RMSE) for the training set\n",
        "rmse_train = (mse_train ** 0.5)\n",
        "\n",
        "# Print out rmse_train rounded to 3\n",
        "round(rmse_train, 3)\n"
      ],
      "metadata": {
        "colab": {
          "base_uri": "https://localhost:8080/"
        },
        "id": "NkwJ9Y7EFIRF",
        "outputId": "ef7f34b4-1976-4603-8941-8bc40d2dcdc7"
      },
      "execution_count": null,
      "outputs": [
        {
          "output_type": "execute_result",
          "data": {
            "text/plain": [
              "95.216"
            ]
          },
          "metadata": {},
          "execution_count": 15
        }
      ]
    },
    {
      "cell_type": "code",
      "source": [
        "import pandas as pd\n",
        "from sklearn.model_selection import train_test_split\n",
        "from sklearn.preprocessing import MinMaxScaler\n",
        "from sklearn.linear_model import LinearRegression\n",
        "from sklearn.metrics import mean_absolute_error\n",
        "\n",
        "# Load your dataset\n",
        "df = pd.read_csv('/content/energydata_complete (2).csv')\n",
        "\n",
        "# Remove the specified columns\n",
        "df = df.drop([\"date\", \"lights\"], axis=1)\n",
        "\n",
        "# Define your features (X) and target variable (y)\n",
        "X = df.drop(\"Appliances\", axis=1)\n",
        "y = df[\"Appliances\"]\n",
        "\n",
        "# Split the data into a 70-30 train-test set\n",
        "X_train, X_test, y_train, y_test = train_test_split(X, y, test_size=0.3, random_state=42)\n",
        "\n",
        "# Normalize the dataset using Min-Max scaler\n",
        "scaler = MinMaxScaler()\n",
        "X_train = scaler.fit_transform(X_train)\n",
        "X_test = scaler.transform(X_test)\n",
        "\n",
        "# Train a multiple linear regression model on the training set\n",
        "model = LinearRegression()\n",
        "model.fit(X_train, y_train)\n",
        "\n",
        "# Make predictions on the test set\n",
        "y_pred_test = model.predict(X_test)\n",
        "\n",
        "# Calculate the Mean Absolute Error (MAE) for the test set\n",
        "mae_test = mean_absolute_error(y_test, y_pred_test)\n",
        "\n",
        "# Print out mea_test.\n",
        "print(mae_test)\n"
      ],
      "metadata": {
        "colab": {
          "base_uri": "https://localhost:8080/"
        },
        "id": "wDDhsCOMFjrN",
        "outputId": "9183a418-a180-4ae5-d161-c4959911f733"
      },
      "execution_count": null,
      "outputs": [
        {
          "output_type": "stream",
          "name": "stdout",
          "text": [
            "53.64297765584956\n"
          ]
        }
      ]
    },
    {
      "cell_type": "code",
      "source": [
        "import pandas as pd\n",
        "from sklearn.model_selection import train_test_split\n",
        "from sklearn.preprocessing import MinMaxScaler\n",
        "from sklearn.linear_model import LinearRegression\n",
        "from sklearn.metrics import mean_squared_error\n",
        "\n",
        "# Load my dataset\n",
        "df = pd.read_csv('/content/energydata_complete (2).csv')\n",
        "\n",
        "# Remove the specified columns\n",
        "df = df.drop([\"date\", \"lights\"], axis=1)\n",
        "\n",
        "# Define your features (X) and target variable (y)\n",
        "X = df.drop(\"Appliances\", axis=1)\n",
        "y = df[\"Appliances\"]\n",
        "\n",
        "# Split the data into a 70-30 train-test set\n",
        "X_train, X_test, y_train, y_test = train_test_split(X, y, test_size=0.3, random_state=42)\n",
        "\n",
        "# Normalize the dataset using Min-Max scaler\n",
        "scaler = MinMaxScaler()\n",
        "X_train = scaler.fit_transform(X_train)\n",
        "X_test = scaler.transform(X_test)\n",
        "\n",
        "# Train a multiple linear regression model on the training set\n",
        "model = LinearRegression()\n",
        "model.fit(X_train, y_train)\n",
        "\n",
        "# Make predictions on the test set\n",
        "y_pred_test = model.predict(X_test)\n",
        "\n",
        "# Calculate the Mean Squared Error (MSE) for the test set\n",
        "mse_test = mean_squared_error(y_test, y_pred_test)\n",
        "\n",
        "# Calculate the Root Mean Squared Error (RMSE) for the test set\n",
        "rmse_test = (mse_test ** 0.5)\n",
        "\n",
        "# Print out rmse_test rounded to 3.\n",
        "round(rmse_test, 3)\n"
      ],
      "metadata": {
        "colab": {
          "base_uri": "https://localhost:8080/"
        },
        "id": "f4vU7bP5GE1e",
        "outputId": "04cd6158-2ea9-42d1-8a7e-812fb8f2456a"
      },
      "execution_count": 8,
      "outputs": [
        {
          "output_type": "execute_result",
          "data": {
            "text/plain": [
              "93.64"
            ]
          },
          "metadata": {},
          "execution_count": 8
        }
      ]
    },
    {
      "cell_type": "code",
      "source": [
        "print(f\"RMSE for the training set: {rmse_train:.3f}\")\n",
        "print(f\"RMSE for the test set: {rmse_test:.3f}\")\n",
        "\n",
        "print(f\"MAE for the training set: {mae_train:.3f}\")\n",
        "print(f\"MAE for the test set: {mae_test:.3f}\")\n"
      ],
      "metadata": {
        "colab": {
          "base_uri": "https://localhost:8080/"
        },
        "id": "MZUYVO-8GqiM",
        "outputId": "1be4396e-347d-412c-c9c6-fb52b6d752ef"
      },
      "execution_count": null,
      "outputs": [
        {
          "output_type": "stream",
          "name": "stdout",
          "text": [
            "RMSE for the training set: 95.216\n",
            "RMSE for the test set: 93.640\n",
            "MAE for the training set: 53.742\n",
            "MAE for the test set: 53.643\n"
          ]
        }
      ]
    },
    {
      "cell_type": "code",
      "source": [
        "from sklearn.linear_model import Ridge\n",
        "import numpy as np\n",
        "\n",
        "\n",
        "# Train a Ridge regression model on the training set with default parameters\n",
        "ridge_model = Ridge()\n",
        "ridge_model.fit(X_train, y_train)\n",
        "\n",
        "# Make predictions on the test set\n",
        "y_pred_test_ridge = ridge_model.predict(X_test)\n",
        "\n",
        "# Calculate RMSE for the Ridge-regressed model\n",
        "rmse_test_ridge = np.sqrt(mean_squared_error(y_test, y_pred_test_ridge))\n",
        "\n",
        "# print rmse_test_ridge rounded to 3.\n",
        "round(rmse_test_ridge, 3)\n"
      ],
      "metadata": {
        "colab": {
          "base_uri": "https://localhost:8080/"
        },
        "id": "uOjrDvU-HV2l",
        "outputId": "e91ea209-8623-4001-e9a6-d4756d21f6c0"
      },
      "execution_count": 15,
      "outputs": [
        {
          "output_type": "execute_result",
          "data": {
            "text/plain": [
              "93.709"
            ]
          },
          "metadata": {},
          "execution_count": 15
        }
      ]
    },
    {
      "cell_type": "code",
      "source": [
        "from sklearn.linear_model import Lasso\n",
        "\n",
        "# Train a Lasso regression model on the training set with default parameters\n",
        "lasso_model = Lasso()\n",
        "lasso_model.fit(X_train, y_train)\n",
        "\n",
        "# Get the feature weights (coefficients)\n",
        "feature_weights = lasso_model.coef_\n",
        "\n",
        "# Count the number of non-zero feature weights\n",
        "num_non_zero_features = sum(feature_weights != 0)\n",
        "\n",
        "# Print outcome.\n",
        "print(num_non_zero_features)\n"
      ],
      "metadata": {
        "colab": {
          "base_uri": "https://localhost:8080/"
        },
        "id": "p0yn13XbH0-Q",
        "outputId": "121568b0-eb36-4d11-f68e-b6d63df68a6f"
      },
      "execution_count": 16,
      "outputs": [
        {
          "output_type": "stream",
          "name": "stdout",
          "text": [
            "4\n"
          ]
        }
      ]
    },
    {
      "cell_type": "code",
      "source": [
        "from sklearn.linear_model import Lasso\n",
        "from sklearn.metrics import mean_squared_error\n",
        "import numpy as np\n",
        "\n",
        "# Train a Lasso regression model on the training set with default parameters\n",
        "lasso_model = Lasso()\n",
        "lasso_model.fit(X_train, y_train)\n",
        "\n",
        "# Make predictions on the test set with the Lasso-regressed model\n",
        "y_pred_test_lasso = lasso_model.predict(X_test)\n",
        "\n",
        "# Calculate the Mean Squared Error (MSE) for the Lasso-regressed model on the test set\n",
        "mse_test_lasso = mean_squared_error(y_test, y_pred_test_lasso)\n",
        "\n",
        "# Calculate the Root Mean Squared Error (RMSE)\n",
        "rmse_test_lasso = np.sqrt(mse_test_lasso)\n",
        "\n",
        "# print outcome\n",
        "print(rmse_test_lasso)\n"
      ],
      "metadata": {
        "colab": {
          "base_uri": "https://localhost:8080/"
        },
        "id": "v3LJwYrtITjs",
        "outputId": "58b9b2b6-174d-4387-db4c-ac23da07404d"
      },
      "execution_count": 17,
      "outputs": [
        {
          "output_type": "stream",
          "name": "stdout",
          "text": [
            "99.42422892589771\n"
          ]
        }
      ]
    }
  ]
}